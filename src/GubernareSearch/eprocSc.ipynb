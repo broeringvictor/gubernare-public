{
 "cells": [
  {
   "cell_type": "code",
   "execution_count": 2,
   "id": "fa3eb587",
   "metadata": {
    "jupyter": {
     "is_executing": true
    }
   },
   "outputs": [],
   "source": [
    "from html.entities import html5\n",
    "\n",
    "import os\n",
    "\n",
    "from bs4 import BeautifulSoup\n",
    "\n",
    "\n",
    "file_path = os.path.join(os.getcwd(), 'processo.html')\n",
    "with open(file_path) as file:\n",
    "    html = file.read()"
   ]
  },
  {
   "cell_type": "code",
   "execution_count": 13,
   "id": "138c2bd2",
   "metadata": {},
   "outputs": [
    {
     "name": "stdout",
     "output_type": "stream",
     "text": [
      "['66', '04/04/2025 20:02:23', 'Confirmada a intimação eletrônica- Refer. ao Evento: 65(MP-  MINISTÉRIO PÚBLICO DO ESTADO DE SANTA CATARINA)', 'MP/SC', 'Evento não gerou documento']\n",
      "['65', '25/03/2025 19:57:52', 'Expedida/certificada a intimação eletrônica- Vista ao MP para ParecerRefer.  ao Evento 64(MP-  MINISTÉRIO PÚBLICO DO ESTADO DE SANTA CATARINA)Prazo: 15 dias Status:ABERTOData inicial da contagem do prazo: 07/04/2025 00:00:00Data final: 02/05/2025 23:59:59Domicílio Judicial Eletrônico: Enviado em 25/03/2025 20:01:01', 'M58358MARCELO ZAMINSERVIDOR UNIDADE JUDICIALVara da Família, Idoso, Órfãos da Comarca de Palhoça', 'Evento não gerou documento']\n",
      "['64', '25/03/2025 19:57:51', 'Ato ordinatório praticado', 'M58358MARCELO ZAMINSERVIDOR UNIDADE JUDICIALVara da Família, Idoso, Órfãos da Comarca de Palhoça', 'ATOORD1']\n",
      "['63', '13/03/2025 01:09:16', 'Decorrido prazo- Refer. aos Eventos: 59 e 60', 'SECFPSISTEMA DE FECHAMENTO DE PRAZOS', 'Evento não gerou documento']\n",
      "['62', '15/02/2025 23:59:59', 'Confirmada a intimação eletrônica- Refer. aos Eventos: 59 e 60', 'SECJESISTEMA DE PROCESSO ELETRÔNICO', 'Evento não gerou documento']\n",
      "['61', '06/02/2025 01:06:23', 'Decorrido prazo- Refer. aos Eventos: 51 e 52', 'SECFPSISTEMA DE FECHAMENTO DE PRAZOS', 'Evento não gerou documento']\n",
      "['60', '05/02/2025 16:47:33', 'Expedida/certificada a intimação eletrônicaRefer.  ao Evento 58(REQUERENTE-  MARIANA TERRA DA SILVA)Prazo: 15 dias Status:FECHADO(63 - Decorrido prazo)Data inicial da contagem do prazo: 18/02/2025 00:00:00Data final: 12/03/2025 23:59:59', 'M58358MARCELO ZAMINSERVIDOR UNIDADE JUDICIALVara da Família, Idoso, Órfãos da Comarca de Palhoça', 'Evento não gerou documento']\n",
      "['59', '05/02/2025 16:47:33', 'Expedida/certificada a intimação eletrônicaRefer.  ao Evento 58(REQUERENTE-  ANDREZA TERRA OLIVEIRA)Prazo: 15 dias Status:FECHADO(63 - Decorrido prazo)Data inicial da contagem do prazo: 18/02/2025 00:00:00Data final: 12/03/2025 23:59:59', 'M58358MARCELO ZAMINSERVIDOR UNIDADE JUDICIALVara da Família, Idoso, Órfãos da Comarca de Palhoça', 'Evento não gerou documento']\n",
      "['58', '05/02/2025 16:45:54', 'Juntada de peças digitalizadas', 'M58358MARCELO ZAMINSERVIDOR UNIDADE JUDICIALVara da Família, Idoso, Órfãos da Comarca de Palhoça', 'CON_EXT_SISBA1CON_EXT_SISBA2CON_EXT_SISBA3CON_EXT_SISBA4CON_EXT_SISBA5CON_EXT_SISBA6CON_EXT_SISBA7CON_EXT_SISBA8file_downloadauto_awesome_motion']\n",
      "['57', '14/12/2024 23:59:59', 'Confirmada a intimação eletrônica- Refer. aos Eventos: 51 e 52', 'SECJESISTEMA DE PROCESSO ELETRÔNICO', 'Evento não gerou documento']\n",
      "['56', '11/12/2024 18:12:06', 'Juntada de peças digitalizadas', 'M58358MARCELO ZAMINSERVIDOR UNIDADE JUDICIALVara da Família, Idoso, Órfãos da Comarca de Palhoça', 'PROTOCOLO ORDEM1']\n",
      "['55', '04/12/2024 13:22:22', 'CIÊNCIA, COM RENÚNCIA AO PRAZO- Refer. ao Evento: 53(MP-  MINISTÉRIO PÚBLICO DO ESTADO DE SANTA CATARINA)', 'MP/SC', 'Evento não gerou documento']\n",
      "['54', '04/12/2024 13:21:27', 'Confirmada a intimação eletrônica- Refer. ao Evento: 53(MP-  MINISTÉRIO PÚBLICO DO ESTADO DE SANTA CATARINA)', 'MP/SC', 'Evento não gerou documento']\n",
      "['53', '04/12/2024 10:19:12', 'Expedida/certificada a intimação eletrônica- Despacho/DecisãoRefer.  ao Evento 50(MP-  MINISTÉRIO PÚBLICO DO ESTADO DE SANTA CATARINA)Prazo: 15 dias Status:FECHADO(55 - CIÊNCIA, COM RENÚNCIA AO PRAZO)Data inicial da contagem do prazo: 05/12/2024 00:00:00Data final: 24/01/2025 23:59:59', 'sandropierriSANDRO PIERRIMAGISTRADOVara da Família, Idoso, Órfãos da Comarca de Palhoça', 'Evento não gerou documento']\n",
      "['52', '04/12/2024 10:19:12', 'Expedida/certificada a intimação eletrônica- Despacho/DecisãoRefer.  ao Evento 50(REQUERENTE-  MARIANA TERRA DA SILVA)Prazo: 15 dias Status:FECHADO(61 - Decorrido prazo)Data inicial da contagem do prazo: 17/12/2024 00:00:00Data final: 05/02/2025 23:59:59', 'sandropierriSANDRO PIERRIMAGISTRADOVara da Família, Idoso, Órfãos da Comarca de Palhoça', 'Evento não gerou documento']\n",
      "['51', '04/12/2024 10:19:11', 'Expedida/certificada a intimação eletrônica- Despacho/DecisãoRefer.  ao Evento 50(REQUERENTE-  ANDREZA TERRA OLIVEIRA)Prazo: 15 dias Status:FECHADO(61 - Decorrido prazo)Data inicial da contagem do prazo: 17/12/2024 00:00:00Data final: 05/02/2025 23:59:59', 'sandropierriSANDRO PIERRIMAGISTRADOVara da Família, Idoso, Órfãos da Comarca de Palhoça', 'Evento não gerou documento']\n",
      "['50', '04/12/2024 10:19:11', 'Decisão interlocutória de Mérito', 'sandropierriSANDRO PIERRIMAGISTRADOVara da Família, Idoso, Órfãos da Comarca de Palhoça', 'DESPADEC1']\n",
      "['49', '17/09/2024 21:21:25', 'Conclusos para decisão', 'secautolocAUTOMATIZAÇÃO DE LOCALIZADORESSISTEMA EPROC', 'Evento não gerou documento']\n",
      "['48', '17/09/2024 21:21:25', 'PETIÇÃO- Refer. ao Evento: 46(MP-  MINISTÉRIO PÚBLICO DO ESTADO DE SANTA CATARINA)', 'MP/SC', 'PROMOÇÃO1']\n",
      "['47', '17/09/2024 21:20:36', 'Confirmada a intimação eletrônica- Refer. ao Evento: 46(MP-  MINISTÉRIO PÚBLICO DO ESTADO DE SANTA CATARINA)', 'MP/SC', 'Evento não gerou documento']\n",
      "['46', '09/09/2024 15:02:13', 'Expedida/certificada a intimação eletrônica- Vista ao MP para ParecerRefer.  ao Evento 45(MP-  MINISTÉRIO PÚBLICO DO ESTADO DE SANTA CATARINA)Prazo: 15 dias Status:FECHADO(48 - PETIÇÃO)Data inicial da contagem do prazo: 18/09/2024 00:00:00Data final: 08/10/2024 23:59:59', 'rnotaroRYAN ROGERIO DE ALMEIDA NOTAROESTAGIÁRIOVara da Família, Idoso, Órfãos da Comarca de Palhoça', 'Evento não gerou documento']\n",
      "['45', '09/09/2024 15:02:13', 'Ato ordinatório praticado', 'rnotaroRYAN ROGERIO DE ALMEIDA NOTAROESTAGIÁRIOVara da Família, Idoso, Órfãos da Comarca de Palhoça', 'ATOORD1']\n",
      "['44', '03/08/2024 01:09:20', 'Decorrido prazo- Refer. aos Eventos: 41 e 42', 'SECFPSISTEMA DE FECHAMENTO DE PRAZOS', 'Evento não gerou documento']\n",
      "['43', '12/07/2024 23:59:59', 'Confirmada a intimação eletrônica- Refer. aos Eventos: 41 e 42', 'SECJESISTEMA DE PROCESSO ELETRÔNICO', 'Evento não gerou documento']\n",
      "['42', '02/07/2024 18:54:44', 'Expedida/certificada a intimação eletrônicaRefer.  ao Evento 40(REQUERENTE-  MARIANA TERRA DA SILVA)Prazo: 15 dias Status:FECHADO(44 - Decorrido prazo)Data inicial da contagem do prazo: 15/07/2024 00:00:00Data final: 02/08/2024 23:59:59', 'JULIA.SHIMOSATOJULIA NAOMI SHIMOSATOESTAGIÁRIOVara da Família, Idoso, Órfãos da Comarca de Palhoça', 'Evento não gerou documento']\n",
      "['41', '02/07/2024 18:54:44', 'Expedida/certificada a intimação eletrônicaRefer.  ao Evento 40(REQUERENTE-  ANDREZA TERRA OLIVEIRA)Prazo: 15 dias Status:FECHADO(44 - Decorrido prazo)Data inicial da contagem do prazo: 15/07/2024 00:00:00Data final: 02/08/2024 23:59:59', 'JULIA.SHIMOSATOJULIA NAOMI SHIMOSATOESTAGIÁRIOVara da Família, Idoso, Órfãos da Comarca de Palhoça', 'Evento não gerou documento']\n",
      "['40', '13/06/2024 14:24:52', 'Juntada de Carta pelo Correio- devolvida sem cumprimento - Refer. ao Evento: 38Destinatário: 3G ALUMINIO LTDADevolvida em: 18/05/2024Motivo devolução: Mudou-se', 'CORREIOSSISTEMA VPOST - CorreiosSISTEMA EPROC', 'AR1']\n",
      "['39', '09/05/2024 17:11:42', 'Juntada de certidão- traslado de peças para o processo  -5000732-72.2024.8.24.0045/SC- ref. ao(s) evento(s): 38', 'elisangela.bastosELISANGELA DE ALMEIDA BASTOSSERVIDOR UNIDADE JUDICIALVara da Família, Idoso, Órfãos da Comarca de Palhoça', 'Evento não gerou documento']\n",
      "['38', '09/05/2024 17:11:10', 'Expedição de ofício- 1 carta (Devolvida pelos Correios)3G ALUMINIO LTDA - 1 carta - Devolução no Evento: 40', 'elisangela.bastosELISANGELA DE ALMEIDA BASTOSSERVIDOR UNIDADE JUDICIALVara da Família, Idoso, Órfãos da Comarca de Palhoça', 'OFIC1']\n",
      "['37', '09/05/2024 16:15:22', 'Juntada de certidão- traslado de peças do processo  -5000732-72.2024.8.24.0045/SC- ref. ao(s) evento(s): 13', 'elisangela.bastosELISANGELA DE ALMEIDA BASTOSSERVIDOR UNIDADE JUDICIALVara da Família, Idoso, Órfãos da Comarca de Palhoça', 'EMAIL1DOCUMENTACAO2DOCUMENTACAO3DOCUMENTACAO4DOCUMENTACAO5file_downloadauto_awesome_motion']\n",
      "['36', '11/03/2024 14:34:45', 'PETIÇÃO- Refer. aos Eventos: 33 e 34', 'SC059880VICTOR BROERING DA SILVAADVOGADO', 'PET1']\n",
      "['35', '18/02/2024 23:59:59', 'Confirmada a intimação eletrônica- Refer. aos Eventos: 33 e 34', 'SECJESISTEMA DE PROCESSO ELETRÔNICO', 'Evento não gerou documento']\n",
      "['34', '08/02/2024 12:27:12', 'Expedida/certificada a intimação eletrônicaRefer.  ao Evento 28(REQUERENTE-  MARIANA TERRA DA SILVA)Prazo: 15 dias Status:FECHADO(36 - PETIÇÃO)Data inicial da contagem do prazo: 20/02/2024 00:00:00Data final: 11/03/2024 23:59:59', 'GISELECARDOSOGISELE CARDOSOSERVIDOR UNIDADE JUDICIALVara da Família, Idoso, Órfãos da Comarca de Palhoça', 'Evento não gerou documento']\n",
      "['33', '08/02/2024 12:27:11', 'Expedida/certificada a intimação eletrônicaRefer.  ao Evento 28(REQUERENTE-  ANDREZA TERRA OLIVEIRA)Prazo: 15 dias Status:FECHADO(36 - PETIÇÃO)Data inicial da contagem do prazo: 20/02/2024 00:00:00Data final: 11/03/2024 23:59:59', 'GISELECARDOSOGISELE CARDOSOSERVIDOR UNIDADE JUDICIALVara da Família, Idoso, Órfãos da Comarca de Palhoça', 'Evento não gerou documento']\n",
      "['32', '08/11/2023 01:08:11', 'Decorrido prazo- Refer. ao Evento: 30(REQUERENTE-  ANDREZA TERRA OLIVEIRA)', 'SECFPSISTEMA DE FECHAMENTO DE PRAZOS', 'Evento não gerou documento']\n",
      "['31', '15/10/2023 23:59:59', 'Confirmada a intimação eletrônica- Refer. ao Evento: 30(REQUERENTE-  ANDREZA TERRA OLIVEIRA)', 'SECJESISTEMA DE PROCESSO ELETRÔNICO', 'Evento não gerou documento']\n",
      "['30', '02/10/2023 18:38:57', 'Expedida/certificada a intimação eletrônicaRefer.  ao Evento 28(REQUERENTE-  ANDREZA TERRA OLIVEIRA)Prazo: 15 dias Status:FECHADO(32 - Decorrido prazo)Data inicial da contagem do prazo: 17/10/2023 00:00:00Data final: 07/11/2023 23:59:59', 'elisangela.bastosELISANGELA DE ALMEIDA BASTOSSERVIDOR UNIDADE JUDICIALVara da Família, Idoso, Órfãos da Comarca de Palhoça', 'Evento não gerou documento']\n",
      "['29', '29/06/2023 13:09:16', 'Juntada de Carta pelo Correio- Comprovante de entrega - Refer. ao Evento: 27Destinatário: VIGILANCIA TRIANGULO LTDAEntregue em: 26/06/2023', 'CORREIOSSISTEMA VPOST - CorreiosSISTEMA EPROC', 'AR1']\n",
      "['28', '26/06/2023 15:43:08', 'Juntado(a)', 'cleiapkCLÉIA PEREIRA KIELINGESTAGIÁRIOVara da Família, Idoso, Órfãos da Comarca de Palhoça', 'DOCUMENTACAO1DOCUMENTACAO2DOCUMENTACAO3file_downloadauto_awesome_motion']\n",
      "['27', '19/06/2023 19:21:41', 'Expedição de ofício- 1 carta (Devolvida pelos Correios)VIGILANCIA TRIANGULO LTDA - 1 carta - Devolução no Evento: 29', 'GISELECARDOSOGISELE CARDOSOSERVIDOR UNIDADE JUDICIALVara da Família, Idoso, Órfãos da Comarca de Palhoça', 'OFIC1']\n",
      "['26', '15/03/2023 16:35:38', 'Despacho', 'lfcaneverLUIS FELIPE CANEVERMAGISTRADOVara da Família, Idoso, Órfãos da Comarca de Palhoça', 'DESPADEC1']\n",
      "['25', '21/11/2022 14:01:19', 'Classe Processual alterada- DE: ALIMENTOS - LEI ESPECIAL Nº 5.478/68 PARA: Reconhecimento e Extinção de União Estável', 'JUMARAJUMARA MARTINISERVIDOR UNIDADE JUDICIAL AVANÇADOVara da Família, Idoso, Órfãos da Comarca de Palhoça', 'Evento não gerou documento']\n",
      "['24', '16/11/2022 12:59:58', 'Conclusos para despacho', 'elisangela.bastosELISANGELA DE ALMEIDA BASTOSSERVIDOR UNIDADE JUDICIALVara da Família, Idoso, Órfãos da Comarca de Palhoça', 'Evento não gerou documento']\n",
      "['23', '21/07/2022 17:19:40', 'PETIÇÃO- Refer. ao Evento: 21(MP-  MINISTÉRIO PÚBLICO DO ESTADO DE SANTA CATARINA)', 'MP/SC', 'PROMOÇÃO1']\n",
      "['22', '21/07/2022 17:18:33', 'Confirmada a intimação eletrônica- Refer. ao Evento: 21(MP-  MINISTÉRIO PÚBLICO DO ESTADO DE SANTA CATARINA)', 'MP/SC', 'Evento não gerou documento']\n",
      "['21', '20/07/2022 12:20:52', 'Expedida/certificada a intimação eletrônica- Vista ao MP para ParecerRefer.  ao Evento 20(MP-  MINISTÉRIO PÚBLICO DO ESTADO DE SANTA CATARINA)Prazo: 15 dias Status:FECHADO(23 - PETIÇÃO)Data inicial da contagem do prazo: 22/07/2022 00:00:00Data final: 11/08/2022 23:59:59', 'elisangela.bastosELISANGELA DE ALMEIDA BASTOSSERVIDOR UNIDADE JUDICIALVara da Família, Idoso, Órfãos da Comarca de Palhoça', 'Evento não gerou documento']\n",
      "['20', '20/07/2022 12:20:52', 'Ato ordinatório praticado', 'elisangela.bastosELISANGELA DE ALMEIDA BASTOSSERVIDOR UNIDADE JUDICIALVara da Família, Idoso, Órfãos da Comarca de Palhoça', 'ATOORD1']\n",
      "['19', '31/05/2022 10:38:38', 'PETIÇÃO', 'SC059880VICTOR BROERING DA SILVAADVOGADO', 'PET1']\n",
      "['18', '08/10/2021 01:11:46', 'Decorrido prazo- Refer. ao Evento: 17(REQUERIDO-  DIEGO DA SILVA MOTTA)', 'SECFPSISTEMA DE FECHAMENTO DE PRAZOS', 'Evento não gerou documento']\n",
      "['17', '16/09/2021 16:21:00', 'Juntada de mandado cumprido- Refer. ao Evento: 15Data do cumprimento: 16/09/2021(REQUERIDO-  DIEGO DA SILVA MOTTA)Prazo: 15 dias Status:FECHADO(18 - Decorrido prazo)Data inicial da contagem do prazo: 17/09/2021 00:00:00Data final: 07/10/2021 23:59:59Destinatário: DIEGO DA SILVA MOTTAData de Cumprimento: 16/09/2021', 'tls26460THAIS LOPES DA SILVAOFICIAL DE JUSTIÇACentral de Mandados - Florianópolis', 'CERT1ANEXO2file_downloadauto_awesome_motion']\n",
      "['16', '15/09/2021 12:19:53', 'Recebido o mandado para cumprimento pelo oficial de justiça- Refer. ao Evento: 15Oficial: THAIS LOPES DA SILVADestinatário: DIEGO DA SILVA MOTTA', 'dcb22367DAIANE CRISTINA BERTOGLIOSERVIDOR CENTRAL DE MANDADOSCentral de Mandados - Florianópolis', 'Evento não gerou documento']\n",
      "['15', '15/09/2021 12:11:05', 'Expedição de mandado- Prioridade - FNSCLCEMAN - Devolvido - Cumprido - Evento: 17Destinatário: DIEGO DA SILVA MOTTA (Prazo: 15 dias - Intimação)Número do mandado: 310018414994', 'helenathcHELENA TENTER HEUSI CARNEIROCHEFE DE CARTÓRIOVara da Família, Idoso, Órfãos da Comarca de Palhoça', 'MAND1']\n",
      "['14', '08/09/2021 13:51:46', 'Juntada de Carta pelo Correio- Comprovante de entrega - Refer. ao Evento: 13Destinatário: VIGILÂNCIA TRIÂNGULO LTDAEntregue em: 02/09/2021', 'CORREIOSSISTEMA VPOST - CorreiosSISTEMA EPROC', 'AR1']\n",
      "['13', '27/08/2021 15:10:26', 'Expedição de ofício- 1 carta (Devolvida pelos Correios)VIGILÂNCIA TRIÂNGULO LTDA - 1 carta - Devolução no Evento: 14', 'lfcaneverLUIS FELIPE CANEVERMAGISTRADOVara da Família, Idoso, Órfãos da Comarca de Palhoça', 'OFIC1']\n",
      "['12', '27/08/2021 14:26:53', 'Expedida/certificada a comunicação eletrônica- Parte: MARIANA TERRA DA SILVA. Justiça gratuita: Deferida.', 'bkelssBEATRIZ KELSS GOTTFRIEDSERVIDOR UNIDADE JUDICIALVara da Família, Idoso, Órfãos da Comarca de Palhoça', 'Evento não gerou documento']\n",
      "['11', '27/08/2021 14:26:53', 'Expedida/certificada a comunicação eletrônica- Parte: ANDREZA TERRA OLIVEIRA. Justiça gratuita: Deferida.', 'bkelssBEATRIZ KELSS GOTTFRIEDSERVIDOR UNIDADE JUDICIALVara da Família, Idoso, Órfãos da Comarca de Palhoça', 'Evento não gerou documento']\n",
      "['10', '25/08/2021 17:55:17', 'PETIÇÃO- Refer. aos Eventos: 7 e 6', 'SC059880VICTOR BROERING DA SILVAADVOGADO', 'PET1']\n",
      "['9', '23/08/2021 11:56:07', 'Confirmada a intimação eletrônica- Refer. ao Evento: 6(REQUERENTE-  ANDREZA TERRA OLIVEIRA)', 'SC059880VICTOR BROERING DA SILVAADVOGADO', 'Evento não gerou documento']\n",
      "['8', '23/08/2021 11:55:53', 'Confirmada a intimação eletrônica- Refer. ao Evento: 7(REQUERENTE-  MARIANA TERRA DA SILVA)', 'SC059880VICTOR BROERING DA SILVAADVOGADO', 'Evento não gerou documento']\n",
      "['7', '20/08/2021 15:36:48', 'Expedida/certificada a intimação eletrônica- Despacho/DecisãoRefer.  ao Evento 5(REQUERENTE-  MARIANA TERRA DA SILVA)Prazo: 15 dias Status:FECHADO(10 - PETIÇÃO)Data inicial da contagem do prazo: 24/08/2021 00:00:00Data final: 14/09/2021 23:59:59', 'lfcaneverLUIS FELIPE CANEVERMAGISTRADOVara da Família, Idoso, Órfãos da Comarca de Palhoça', 'Evento não gerou documento']\n",
      "['6', '20/08/2021 15:36:48', 'Expedida/certificada a intimação eletrônica- Despacho/DecisãoRefer.  ao Evento 5(REQUERENTE-  ANDREZA TERRA OLIVEIRA)Prazo: 15 dias Status:FECHADO(10 - PETIÇÃO)Data inicial da contagem do prazo: 24/08/2021 00:00:00Data final: 14/09/2021 23:59:59', 'lfcaneverLUIS FELIPE CANEVERMAGISTRADOVara da Família, Idoso, Órfãos da Comarca de Palhoça', 'Evento não gerou documento']\n",
      "['5', '20/08/2021 15:36:48', 'Concedida a tutela provisória', 'lfcaneverLUIS FELIPE CANEVERMAGISTRADOVara da Família, Idoso, Órfãos da Comarca de Palhoça', 'DESPADEC1']\n",
      "['4', '16/08/2021 15:21:46', 'Conclusos para decisão/despacho', 'bkelssBEATRIZ KELSS GOTTFRIEDSERVIDOR UNIDADE JUDICIALVara da Família, Idoso, Órfãos da Comarca de Palhoça', 'Evento não gerou documento']\n",
      "['3', '12/08/2021 13:47:09', 'Expedida/certificada a comunicação eletrônica- Parte: ANDREZA TERRA OLIVEIRA. Justiça gratuita: Requerida.', 'SC059880VICTOR BROERING DA SILVAADVOGADO', 'Evento não gerou documento']\n",
      "['2', '12/08/2021 13:47:09', 'Expedida/certificada a comunicação eletrônica- Parte: MARIANA TERRA DA SILVA. Justiça gratuita: Não requerida.', 'SC059880VICTOR BROERING DA SILVAADVOGADO', 'Evento não gerou documento']\n",
      "['1', '12/08/2021 13:47:09', 'Distribuído por sorteio (PACFM01)', 'SC059880VICTOR BROERING DA SILVAADVOGADO', 'INIC1PROC2APRES DOC3CERTNASC4RG5END6END7DECLPOBRE8DECLPOBRE9DECLPOBRE10DECLPOBRE11DOCUMENTACAO12DOCUMENTACAO13file_downloadauto_awesome_motion']\n"
     ]
    }
   ],
   "source": [
    "from bs4 import BeautifulSoup\n",
    "\n",
    "# Supondo que 'html' contenha o seu documento HTML\n",
    "soup = BeautifulSoup(html, 'html.parser')\n",
    "\n",
    "# Encontra a tabela com summary=\"Documentos\"\n",
    "table = soup.find('table', summary=\"Eventos\")\n",
    "if table:\n",
    "    # Encontra todas as linhas da tabela\n",
    "    rows = table.find_all('tr')\n",
    "    \n",
    "    # Inicializa uma lista para armazenar os dados\n",
    "    data = []\n",
    "    \n",
    "    # Itera sobre as linhas, começando da segunda (índice 1) para ignorar o cabeçalho\n",
    "    for row in rows[1:]:\n",
    "        # Encontra todas as células da linha\n",
    "        cells = row.find_all('td')\n",
    "        \n",
    "        # Extrai o texto de cada célula e adiciona à lista de dados\n",
    "        data.append([cell.get_text(strip=True) for cell in cells])\n",
    "    \n",
    "    # Exibe os dados extraídos\n",
    "    for item in data:\n",
    "        print(item)\n"
   ]
  },
  {
   "cell_type": "code",
   "execution_count": null,
   "id": "f6832bff",
   "metadata": {},
   "outputs": [],
   "source": []
  }
 ],
 "metadata": {
  "kernelspec": {
   "display_name": ".venv",
   "language": "python",
   "name": "python3"
  },
  "language_info": {
   "codemirror_mode": {
    "name": "ipython",
    "version": 3
   },
   "file_extension": ".py",
   "mimetype": "text/x-python",
   "name": "python",
   "nbconvert_exporter": "python",
   "pygments_lexer": "ipython3",
   "version": "3.13.1"
  }
 },
 "nbformat": 4,
 "nbformat_minor": 5
}
